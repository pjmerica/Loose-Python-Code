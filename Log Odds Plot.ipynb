{
 "cells": [
  {
   "cell_type": "code",
   "execution_count": null,
   "id": "171c29cb",
   "metadata": {},
   "outputs": [],
   "source": [
    "import numpy as np\n",
    "import pandas as pd\n",
    "import matplotlib.pyplot as plt\n",
    "from sklearn.datasets import make_classification\n",
    "\n",
    "# Generate example data\n",
    "np.random.seed(42)\n",
    "data, target = make_classification(\n",
    "    n_samples=1000,\n",
    "    n_features=5,\n",
    "    n_informative=3,\n",
    "    n_redundant=0,\n",
    "    random_state=42\n",
    ")\n",
    "df = pd.DataFrame(data, columns=[f'feature_{i}' for i in range(1, 6)])\n",
    "df['target'] = target\n",
    "\n",
    "# Function to create log-odds plot\n",
    "def log_odds_plot(data, feature, target, bins=10):\n",
    "    # Bin the feature\n",
    "    data['bin'] = pd.qcut(data[feature], bins, duplicates='drop')\n",
    "    \n",
    "    # Calculate mean feature value and log-odds for each bin\n",
    "    bin_stats = data.groupby('bin').apply(lambda group: pd.Series({\n",
    "        'mean_feature': group[feature].mean(),\n",
    "        'log_odds': np.log((group[target].mean()) / (1 - group[target].mean()))\n",
    "    })).dropna()\n",
    "\n",
    "    # Plot\n",
    "    plt.figure(figsize=(8, 6))\n",
    "    plt.plot(bin_stats['mean_feature'], bin_stats['log_odds'], marker='o')\n",
    "    plt.title(f'Log-Odds Plot for {feature}', fontsize=14)\n",
    "    plt.xlabel(f'{feature}', fontsize=12)\n",
    "    plt.ylabel(f'Log-Odds of {target}', fontsize=12)\n",
    "    plt.grid(True)\n",
    "    plt.show()\n",
    "\n",
    "# Iterate through features and generate log-odds plots\n",
    "for feature in df.columns[:-1]:  # Exclude the target variable\n",
    "    print(f\"Generating log-odds plot for: {feature}\")\n",
    "    log_odds_plot(df, feature, 'target')\n"
   ]
  }
 ],
 "metadata": {
  "kernelspec": {
   "display_name": "Python 3 (ipykernel)",
   "language": "python",
   "name": "python3"
  },
  "language_info": {
   "codemirror_mode": {
    "name": "ipython",
    "version": 3
   },
   "file_extension": ".py",
   "mimetype": "text/x-python",
   "name": "python",
   "nbconvert_exporter": "python",
   "pygments_lexer": "ipython3",
   "version": "3.11.3"
  }
 },
 "nbformat": 4,
 "nbformat_minor": 5
}
